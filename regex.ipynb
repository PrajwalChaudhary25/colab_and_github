{
  "cells": [
    {
      "cell_type": "markdown",
      "source": [
        "## This is just for testing purpose only"
      ],
      "metadata": {
        "id": "RGw_k8WDooKu"
      },
      "id": "RGw_k8WDooKu"
    },
    {
      "cell_type": "code",
      "source": [
        "print(\"Hello world\")"
      ],
      "metadata": {
        "colab": {
          "base_uri": "https://localhost:8080/"
        },
        "id": "vmpsdbQ-onhH",
        "outputId": "1ca633ee-4e37-483d-d5cc-96987a4d1f07"
      },
      "id": "vmpsdbQ-onhH",
      "execution_count": 2,
      "outputs": [
        {
          "output_type": "stream",
          "name": "stdout",
          "text": [
            "Hello world\n"
          ]
        }
      ]
    },
    {
      "cell_type": "markdown",
      "source": [
        "## Adding my name"
      ],
      "metadata": {
        "id": "-o5n0n5Iqz60"
      },
      "id": "-o5n0n5Iqz60"
    },
    {
      "cell_type": "code",
      "source": [
        "print('prajwal Chaudhary')"
      ],
      "metadata": {
        "id": "w1ktiRN8qx4U",
        "outputId": "4f3aae34-b2fa-4bdf-bc75-d5ebc0ea4851",
        "colab": {
          "base_uri": "https://localhost:8080/"
        }
      },
      "id": "w1ktiRN8qx4U",
      "execution_count": 3,
      "outputs": [
        {
          "output_type": "stream",
          "name": "stdout",
          "text": [
            "prajwal Chaudhary\n"
          ]
        }
      ]
    },
    {
      "cell_type": "markdown",
      "id": "66391b1d",
      "metadata": {
        "id": "66391b1d"
      },
      "source": [
        "# Regular Expressions (RegEx) in Python: Beginner to Advanced\n",
        "\n",
        "Welcome to this modular, clear, and concise guide to Regular Expressions (RegEx) in Python. This notebook will take you from the basics to advanced techniques, with practical examples and exercises.\n",
        "\n",
        "---\n",
        "\n",
        "**Outline:**\n",
        "1. Import the re Module\n",
        "2. Basic Pattern Matching\n",
        "3. Metacharacters and Special Sequences\n",
        "4. Character Classes and Quantifiers\n",
        "5. Grouping and Capturing\n",
        "6. Search, Match, and Findall Functions\n",
        "7. Substitution and Splitting\n",
        "8. Flags and Their Usage\n",
        "9. Advanced Patterns: Lookahead and Lookbehind\n",
        "10. Practical Examples and Exercises\n"
      ]
    },
    {
      "cell_type": "markdown",
      "id": "e681578b",
      "metadata": {
        "id": "e681578b"
      },
      "source": [
        "## 1. Import the re Module\n",
        "\n",
        "Python's built-in `re` module provides support for regular expressions. Always start by importing it."
      ]
    },
    {
      "cell_type": "code",
      "execution_count": null,
      "id": "0f5b1c7d",
      "metadata": {
        "id": "0f5b1c7d"
      },
      "outputs": [],
      "source": [
        "import re\n",
        "# The re module is now available for all regex operations."
      ]
    },
    {
      "cell_type": "markdown",
      "id": "c7ace47f",
      "metadata": {
        "id": "c7ace47f"
      },
      "source": [
        "## 2. Basic Pattern Matching\n",
        "\n",
        "Let's start with simple pattern matching using `re.match()` and `re.search()`."
      ]
    },
    {
      "cell_type": "code",
      "execution_count": null,
      "id": "4266bcbb",
      "metadata": {
        "id": "4266bcbb"
      },
      "outputs": [],
      "source": [
        "# re.match() checks for a match only at the beginning of the string\n",
        "result = re.match(r'cat', 'catapult')\n",
        "print('re.match:', result.group() if result else 'No match')\n",
        "\n",
        "# re.search() checks for a match anywhere in the string\n",
        "result = re.search(r'cat', 'concatenate')\n",
        "print('re.search:', result.group() if result else 'No match')"
      ]
    },
    {
      "cell_type": "markdown",
      "id": "fe885447",
      "metadata": {
        "id": "fe885447"
      },
      "source": [
        "## 3. Metacharacters and Special Sequences\n",
        "\n",
        "Metacharacters are characters with special meaning in RegEx. Special sequences help match specific character types."
      ]
    },
    {
      "cell_type": "code",
      "execution_count": null,
      "id": "20fc3e91",
      "metadata": {
        "id": "20fc3e91"
      },
      "outputs": [],
      "source": [
        "# Metacharacters: . ^ $\n",
        "print(re.search(r'.', 'abc').group())  # Matches any character\n",
        "print(re.search(r'^a', 'abc').group()) # Matches 'a' at start\n",
        "print(re.search(r'c$', 'abc').group()) # Matches 'c' at end\n",
        "\n",
        "# Special sequences: \\d, \\w, \\s\n",
        "print(re.search(r'\\d', 'abc123').group()) # Matches a digit\n",
        "print(re.search(r'\\w', '***a').group())  # Matches a word character\n",
        "print(re.search(r'\\s', 'a b').group())   # Matches a whitespace"
      ]
    },
    {
      "cell_type": "markdown",
      "id": "ed988641",
      "metadata": {
        "id": "ed988641"
      },
      "source": [
        "## 4. Character Classes and Quantifiers\n",
        "\n",
        "Character classes match specific sets of characters. Quantifiers specify how many times a pattern should occur."
      ]
    },
    {
      "cell_type": "code",
      "execution_count": null,
      "id": "3e33d05f",
      "metadata": {
        "id": "3e33d05f"
      },
      "outputs": [],
      "source": [
        "# Character classes\n",
        "print(re.search(r'[aeiou]', 'python').group())      # Matches any vowel\n",
        "print(re.search(r'[^aeiou]', 'python').group())     # Matches any non-vowel\n",
        "\n",
        "# Quantifiers\n",
        "print(re.search(r'\\d+', 'abc12345').group())       # Matches one or more digits\n",
        "print(re.search(r'\\d{2,4}', 'abc12345').group())   # Matches 2 to 4 digits"
      ]
    },
    {
      "cell_type": "markdown",
      "id": "c33309fc",
      "metadata": {
        "id": "c33309fc"
      },
      "source": [
        "## 5. Grouping and Capturing\n",
        "\n",
        "Parentheses `()` are used to group patterns and capture matched substrings for later use."
      ]
    },
    {
      "cell_type": "code",
      "execution_count": null,
      "id": "e8ded19f",
      "metadata": {
        "id": "e8ded19f"
      },
      "outputs": [],
      "source": [
        "# Grouping and capturing\n",
        "match = re.search(r'(\\d+)-(\\w+)', '12345-abc')\n",
        "if match:\n",
        "    print('Full match:', match.group(0))\n",
        "    print('First group:', match.group(1))\n",
        "    print('Second group:', match.group(2))"
      ]
    },
    {
      "cell_type": "markdown",
      "id": "85286c43",
      "metadata": {
        "id": "85286c43"
      },
      "source": [
        "## 6. Search, Match, and Findall Functions\n",
        "\n",
        "Let's compare `re.search()`, `re.match()`, and `re.findall()`."
      ]
    },
    {
      "cell_type": "code",
      "execution_count": null,
      "id": "7c74974e",
      "metadata": {
        "id": "7c74974e"
      },
      "outputs": [],
      "source": [
        "text = 'cat dog catfish dogcat'\n",
        "print('re.match:', re.match(r'cat', text))           # Only matches at start\n",
        "print('re.search:', re.search(r'dog', text))         # Finds first occurrence\n",
        "print('re.findall:', re.findall(r'cat', text))       # Finds all occurrences"
      ]
    },
    {
      "cell_type": "markdown",
      "id": "8db22836",
      "metadata": {
        "id": "8db22836"
      },
      "source": [
        "## 7. Substitution and Splitting\n",
        "\n",
        "Use `re.sub()` to replace patterns and `re.split()` to split strings based on patterns."
      ]
    },
    {
      "cell_type": "code",
      "execution_count": null,
      "id": "bef4369e",
      "metadata": {
        "id": "bef4369e"
      },
      "outputs": [],
      "source": [
        "# Substitution\n",
        "text = 'apple banana apple orange'\n",
        "new_text = re.sub(r'apple', 'fruit', text)\n",
        "print('Substitution:', new_text)\n",
        "\n",
        "# Splitting\n",
        "sentence = 'one,two;three four'\n",
        "parts = re.split(r'[;, ]', sentence)\n",
        "print('Splitting:', parts)"
      ]
    },
    {
      "cell_type": "markdown",
      "id": "9464fd62",
      "metadata": {
        "id": "9464fd62"
      },
      "source": [
        "## 8. Flags and Their Usage\n",
        "\n",
        "Flags modify regex behavior. Common flags include `re.IGNORECASE`, `re.MULTILINE`, and `re.DOTALL`."
      ]
    },
    {
      "cell_type": "code",
      "execution_count": null,
      "id": "8f603be5",
      "metadata": {
        "id": "8f603be5"
      },
      "outputs": [],
      "source": [
        "# IGNORECASE: Case-insensitive matching\n",
        "print(re.search(r'apple', 'APPLE', re.IGNORECASE).group())\n",
        "\n",
        "# MULTILINE: ^ and $ match at the start/end of each line\n",
        "text = 'first\\nsecond'\n",
        "print(re.findall(r'^\\w+', text, re.MULTILINE))\n",
        "\n",
        "# DOTALL: . matches newline as well\n",
        "text = 'abc\\ndef'\n",
        "print(re.search(r'a.*f', text, re.DOTALL).group())"
      ]
    },
    {
      "cell_type": "markdown",
      "id": "7028db32",
      "metadata": {
        "id": "7028db32"
      },
      "source": [
        "## 9. Advanced Patterns: Lookahead and Lookbehind\n",
        "\n",
        "Lookahead and lookbehind assertions allow you to match patterns based on what comes before or after them, without including those parts in the match."
      ]
    },
    {
      "cell_type": "code",
      "execution_count": null,
      "id": "1001e3bd",
      "metadata": {
        "id": "1001e3bd"
      },
      "outputs": [],
      "source": [
        "# Lookahead: Match 'foo' only if followed by 'bar'\n",
        "print(re.search(r'foo(?=bar)', 'foobar').group())\n",
        "\n",
        "# Lookbehind: Match 'bar' only if preceded by 'foo'\n",
        "print(re.search(r'(?<=foo)bar', 'foobar').group())"
      ]
    },
    {
      "cell_type": "markdown",
      "id": "90d7fad6",
      "metadata": {
        "id": "90d7fad6"
      },
      "source": [
        "## 10. Practical Examples and Exercises\n",
        "\n",
        "Let's apply what you've learned with some real-world examples and short exercises."
      ]
    },
    {
      "cell_type": "code",
      "execution_count": null,
      "id": "6b35721b",
      "metadata": {
        "id": "6b35721b"
      },
      "outputs": [],
      "source": [
        "# Example 1: Extract all email addresses from text\n",
        "text = 'Contact: alice@example.com, bob@work.org'\n",
        "emails = re.findall(r'[\\w.-]+@[\\w.-]+', text)\n",
        "print('Emails:', emails)\n",
        "\n",
        "# Example 2: Validate a phone number (US format)\n",
        "phone = '123-456-7890'\n",
        "if re.fullmatch(r'\\d{3}-\\d{3}-\\d{4}', phone):\n",
        "    print('Valid phone number')\n",
        "else:\n",
        "    print('Invalid phone number')\n",
        "\n",
        "# Exercise: Find all words starting with 'a' in a sentence\n",
        "sentence = 'An apple a day keeps anxiety away.'\n",
        "words = re.findall(r'\\ba\\w*', sentence, re.IGNORECASE)\n",
        "print('Words starting with a:', words)"
      ]
    }
  ],
  "metadata": {
    "language_info": {
      "name": "python"
    },
    "colab": {
      "provenance": []
    },
    "kernelspec": {
      "name": "python3",
      "display_name": "Python 3"
    }
  },
  "nbformat": 4,
  "nbformat_minor": 5
}